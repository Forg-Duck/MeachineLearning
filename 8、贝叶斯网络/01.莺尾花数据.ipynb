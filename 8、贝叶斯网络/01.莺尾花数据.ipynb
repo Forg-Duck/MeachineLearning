{
 "cells": [
  {
   "cell_type": "markdown",
   "metadata": {},
   "source": [
    "题目：\n",
    "\n",
    "对莺尾花数据用朴素贝叶斯分类"
   ]
  },
  {
   "cell_type": "markdown",
   "metadata": {},
   "source": [
    "## 1.导入数据集"
   ]
  },
  {
   "cell_type": "markdown",
   "metadata": {},
   "source": [
    "1.导入库"
   ]
  },
  {
   "cell_type": "code",
   "execution_count": 107,
   "metadata": {},
   "outputs": [],
   "source": [
    "import numpy as np\n",
    "import pandas as pd\n",
    "import matplotlib as mpl\n",
    "import matplotlib.pyplot as plt\n",
    "from sklearn import datasets\n",
    "from sklearn.preprocessing import StandardScaler , PolynomialFeatures  # 对数据标准化\n",
    "from sklearn.pipeline import Pipeline\n",
    "from sklearn.naive_bayes import GaussianNB                          # 高斯朴素贝叶斯模型\n",
    "from sklearn.metrics import accuracy_score\n",
    "from sklearn.model_selection import train_test_split"
   ]
  },
  {
   "cell_type": "markdown",
   "metadata": {},
   "source": [
    "2.导入数据集"
   ]
  },
  {
   "cell_type": "code",
   "execution_count": 108,
   "metadata": {},
   "outputs": [],
   "source": [
    "iris = datasets.load_iris()     # 花的数据，sklearn中的数据库（就是上面的花）\n",
    "X = iris.data[:,:2]             # X表示：花的属性 ; 切除最后一列\n",
    "y = iris.target "
   ]
  },
  {
   "cell_type": "markdown",
   "metadata": {},
   "source": [
    "3.分离训练数据"
   ]
  },
  {
   "cell_type": "code",
   "execution_count": 109,
   "metadata": {},
   "outputs": [],
   "source": [
    "x,x_test,y,y_test = train_test_split(X,Y,train_size = 0.7,random_state = 0)"
   ]
  },
  {
   "cell_type": "markdown",
   "metadata": {},
   "source": [
    "## 2.模型学习"
   ]
  },
  {
   "cell_type": "markdown",
   "metadata": {},
   "source": [
    "1.设置参数"
   ]
  },
  {
   "cell_type": "code",
   "execution_count": 110,
   "metadata": {},
   "outputs": [],
   "source": [
    "priors = np.array((1,1,1),dtype = float)\n",
    "priors /= priors.sum()"
   ]
  },
  {
   "cell_type": "markdown",
   "metadata": {},
   "source": [
    "2.构造模型"
   ]
  },
  {
   "cell_type": "code",
   "execution_count": 111,
   "metadata": {},
   "outputs": [],
   "source": [
    "gnb = Pipeline([\n",
    "    ('sc',StandardScaler()),                     # 对特征标准化\n",
    "    ('poly',PolynomialFeatures(degree = 2)),     # 多项式的和\n",
    "    ('clf',GaussianNB(priors = priors))         # 高斯朴素贝叶斯\n",
    "])"
   ]
  },
  {
   "cell_type": "markdown",
   "metadata": {},
   "source": [
    "3.模型学习"
   ]
  },
  {
   "cell_type": "code",
   "execution_count": 112,
   "metadata": {},
   "outputs": [
    {
     "data": {
      "text/plain": [
       "Pipeline(memory=None,\n",
       "         steps=[('sc',\n",
       "                 StandardScaler(copy=True, with_mean=True, with_std=True)),\n",
       "                ('poly',\n",
       "                 PolynomialFeatures(degree=2, include_bias=True,\n",
       "                                    interaction_only=False, order='C')),\n",
       "                ('clf',\n",
       "                 GaussianNB(priors=array([0.33333333, 0.33333333, 0.33333333]),\n",
       "                            var_smoothing=1e-09))],\n",
       "         verbose=False)"
      ]
     },
     "execution_count": 112,
     "metadata": {},
     "output_type": "execute_result"
    }
   ],
   "source": [
    "gnb.fit(x,y.ravel()) # y.ravel()：将y转换为一维数组"
   ]
  },
  {
   "cell_type": "markdown",
   "metadata": {},
   "source": [
    "4.给出预测值"
   ]
  },
  {
   "cell_type": "code",
   "execution_count": 113,
   "metadata": {},
   "outputs": [],
   "source": [
    "y_hat = gnb.predict(x)   # 训练集"
   ]
  },
  {
   "cell_type": "code",
   "execution_count": 114,
   "metadata": {},
   "outputs": [],
   "source": [
    "y_test_hat = gnb.predict(x_test)  # 测试集"
   ]
  },
  {
   "cell_type": "markdown",
   "metadata": {},
   "source": [
    "5.给出得分"
   ]
  },
  {
   "cell_type": "code",
   "execution_count": 115,
   "metadata": {},
   "outputs": [
    {
     "name": "stdout",
     "output_type": "stream",
     "text": [
      "训练集得分：75.24%\n"
     ]
    }
   ],
   "source": [
    "print('训练集得分：%.2f%%' % (100 * accuracy_score(y,y_hat)))"
   ]
  },
  {
   "cell_type": "code",
   "execution_count": 116,
   "metadata": {},
   "outputs": [
    {
     "name": "stdout",
     "output_type": "stream",
     "text": [
      "测试集得分：77.78%\n"
     ]
    }
   ],
   "source": [
    "print('测试集得分：%.2f%%' % (100 * accuracy_score(y_test,y_test_hat)))"
   ]
  },
  {
   "cell_type": "markdown",
   "metadata": {},
   "source": [
    "## 3.画图（不太会，好像用numpy和用pandas读取数据画图方式不一样）"
   ]
  },
  {
   "cell_type": "code",
   "execution_count": 117,
   "metadata": {},
   "outputs": [
    {
     "data": {
      "image/png": "[encoded data removed]",
      "text/plain": [
       "<Figure size 432x288 with 1 Axes>"
      ]
     },
     "metadata": {
      "needs_background": "light"
     },
     "output_type": "display_data"
    }
   ],
   "source": [
    "plt.scatter(X[Y==0,0],X[Y==0,1],color='r',label='A')\n",
    "plt.scatter(X[Y==1,0],X[Y==1,1],color='b',marker='+',label='B')\n",
    "plt.scatter(X[Y==2,0],X[Y==2,1],color='k',marker='^',label='C')\n",
    "\n",
    "plt.legend()\n",
    "\n",
    "plt.xlabel('flower length/cm')\n",
    "plt.ylabel('calyx lenth/cm')\n",
    "plt.title('GaussianNB')\n",
    "\n",
    "plt.show()"
   ]
  }
 ],
 "metadata": {
  "kernelspec": {
   "display_name": "Python 3",
   "language": "python",
   "name": "python3"
  },
  "language_info": {
   "codemirror_mode": {
    "name": "ipython",
    "version": 3
   },
   "file_extension": ".py",
   "mimetype": "text/x-python",
   "name": "python",
   "nbconvert_exporter": "python",
   "pygments_lexer": "ipython3",
   "version": "3.7.6"
  }
 },
 "nbformat": 4,
 "nbformat_minor": 4
}
