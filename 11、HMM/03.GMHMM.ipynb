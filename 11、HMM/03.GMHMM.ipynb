{
 "cells": [
  {
   "cell_type": "markdown",
   "metadata": {},
   "source": [
    "题目：\n",
    "\n",
    "构造一个数据集，有5组数据，满足混合高斯模型，用HMM去拟合参数。"
   ]
  },
  {
   "cell_type": "markdown",
   "metadata": {},
   "source": [
    "## 1.导入库"
   ]
  },
  {
   "cell_type": "code",
   "execution_count": 27,
   "metadata": {},
   "outputs": [],
   "source": [
    "import numpy as np\n",
    "from hmmlearn import hmm\n",
    "import matplotlib.pyplot as plt\n",
    "import matplotlib as mpl\n",
    "from sklearn.metrics.pairwise import pairwise_distances_argmin\n",
    "import warnings"
   ]
  },
  {
   "cell_type": "markdown",
   "metadata": {},
   "source": [
    "## 2.构造数据集"
   ]
  },
  {
   "cell_type": "code",
   "execution_count": 28,
   "metadata": {},
   "outputs": [],
   "source": [
    "def expand(a, b):\n",
    "    d = (b - a) * 0.05\n",
    "    return a-d, b+d"
   ]
  },
  {
   "cell_type": "code",
   "execution_count": 29,
   "metadata": {},
   "outputs": [],
   "source": [
    "# 避免提出警告，没什么用\n",
    "warnings.filterwarnings(\"ignore\")   # hmmlearn(0.2.0) < sklearn(0.18)\n",
    "np.random.seed(0)"
   ]
  },
  {
   "cell_type": "markdown",
   "metadata": {},
   "source": [
    "构造数据"
   ]
  },
  {
   "cell_type": "code",
   "execution_count": 30,
   "metadata": {},
   "outputs": [
    {
     "name": "stdout",
     "output_type": "stream",
     "text": [
      "初始概率： [0.19356424 0.25224431 0.21259213 0.19217803 0.14942128]\n"
     ]
    }
   ],
   "source": [
    "n = 5    # 隐状态数目\n",
    "n_samples = 1000\n",
    "pi = np.random.rand(n)\n",
    "pi /= pi.sum()  # 初始概率 pi\n",
    "print ('初始概率：', pi)"
   ]
  },
  {
   "cell_type": "markdown",
   "metadata": {},
   "source": [
    "为了可以成为五角星，设置一个状态只能转移到其他2个状态"
   ]
  },
  {
   "cell_type": "code",
   "execution_count": 31,
   "metadata": {},
   "outputs": [
    {
     "name": "stdout",
     "output_type": "stream",
     "text": [
      "转移概率：\n",
      " [[0.25822029 0.         0.35651955 0.38526017 0.        ]\n",
      " [0.         0.34669639 0.         0.6067387  0.04656491]\n",
      " [0.04868208 0.         0.46521279 0.         0.48610513]\n",
      " [0.3825259  0.31237801 0.         0.30509609 0.        ]\n",
      " [0.         0.09539815 0.62865435 0.         0.2759475 ]]\n"
     ]
    }
   ],
   "source": [
    "# 设定状态转移概率\n",
    "A = np.random.rand(n, n)\n",
    "mask = np.zeros((n, n), dtype=np.bool)\n",
    "mask[0][1] = mask[0][4] = True\n",
    "mask[1][0] = mask[1][2] = True\n",
    "mask[2][1] = mask[2][3] = True\n",
    "mask[3][2] = mask[3][4] = True\n",
    "mask[4][0] = mask[4][3] = True\n",
    "A[mask] = 0\n",
    "for i in range(n):\n",
    "    A[i] /= A[i].sum()\n",
    "print ('转移概率：\\n', A)"
   ]
  },
  {
   "cell_type": "code",
   "execution_count": 32,
   "metadata": {},
   "outputs": [
    {
     "name": "stdout",
     "output_type": "stream",
     "text": [
      "均值：\n",
      " [[ 30  30]\n",
      " [  0  50]\n",
      " [-25  30]\n",
      " [-15   0]\n",
      " [ 15   0]]\n"
     ]
    }
   ],
   "source": [
    "# 给定均值\n",
    "means = np.array(((30, 30), (0, 50), (-25, 30), (-15, 0), (15, 0)))\n",
    "print ('均值：\\n', means)"
   ]
  },
  {
   "cell_type": "code",
   "execution_count": 33,
   "metadata": {},
   "outputs": [
    {
     "name": "stdout",
     "output_type": "stream",
     "text": [
      "方差：\n",
      " [[[0.80366684 0.        ]\n",
      "  [0.         2.33270107]]\n",
      "\n",
      " [[1.378451   0.        ]\n",
      "  [0.         1.71530185]]\n",
      "\n",
      " [[0.0663694  0.        ]\n",
      "  [0.         1.86290649]]\n",
      "\n",
      " [[1.84628717 0.        ]\n",
      "  [0.         1.86080199]]\n",
      "\n",
      " [[2.84124424 0.        ]\n",
      "  [0.         2.0554609 ]]]\n"
     ]
    }
   ],
   "source": [
    "# 给定方差\n",
    "covars = np.empty((n, 2, 2))\n",
    "for i in range(n):\n",
    "    # covars[i] = np.diag(np.random.randint(1, 5, size=2))\n",
    "    covars[i] = np.diag(np.random.rand(2) * 0.3 + 0.001)*10    # np.random.rand ∈[0,1) ；方差*0.3为了是数据更离散，便于分类\n",
    "print ('方差：\\n', covars)"
   ]
  },
  {
   "cell_type": "markdown",
   "metadata": {},
   "source": [
    "## 3.模型拟合与预测"
   ]
  },
  {
   "cell_type": "code",
   "execution_count": 34,
   "metadata": {},
   "outputs": [],
   "source": [
    "model = hmm.GaussianHMM(n_components=n, covariance_type='full')  # 使用库函数\n",
    "model.startprob_ = pi\n",
    "model.transmat_ = A\n",
    "model.means_ = means\n",
    "model.covars_ = covars\n",
    "# X 就是sample ，Y 就是labels ，我们只用sample将其假设成为为监督学习，最后用labels去检测准确率\n",
    "sample, labels = model.sample(n_samples=n_samples, random_state=0) "
   ]
  },
  {
   "cell_type": "code",
   "execution_count": 35,
   "metadata": {},
   "outputs": [
    {
     "name": "stdout",
     "output_type": "stream",
     "text": [
      "##估计初始概率： [0. 0. 1. 0. 0.]\n",
      "********************************************************************************************\n",
      "##估计转移概率：\n",
      " [[0.36082474 0.03092784 0.         0.60824742 0.        ]\n",
      " [0.10071942 0.26978417 0.6294964  0.         0.        ]\n",
      " [0.         0.48905109 0.47688564 0.         0.03406326]\n",
      " [0.27642276 0.         0.         0.28455285 0.43902439]\n",
      " [0.         0.         0.43333333 0.32222222 0.24444444]]\n",
      "********************************************************************************************\n",
      "##估计均值：\n",
      " [[ -0.33151185  49.98276566]\n",
      " [ 14.96925071  -0.06175244]\n",
      " [-25.01752737  30.05832919]\n",
      " [-14.91004345   0.02788946]\n",
      " [ 30.03516561  30.12248569]]\n",
      "********************************************************************************************\n",
      "##估计方差：\n",
      " [[[ 1.23494334  0.01148405]\n",
      "  [ 0.01148405  1.35077513]]\n",
      "\n",
      " [[ 2.36531773 -0.05062351]\n",
      "  [-0.05062351  1.90165272]]\n",
      "\n",
      " [[ 0.0615622   0.00820638]\n",
      "  [ 0.00820638  1.6420642 ]]\n",
      "\n",
      " [[ 1.88313434 -0.14924005]\n",
      "  [-0.14924005  1.87280138]]\n",
      "\n",
      " [[ 0.80166474  0.14272046]\n",
      "  [ 0.14272046  2.56229425]]]\n"
     ]
    }
   ],
   "source": [
    "# 估计参数\n",
    "model = hmm.GaussianHMM(n_components=n, covariance_type='full', n_iter=10)\n",
    "model = model.fit(sample)\n",
    "y = model.predict(sample)\n",
    "np.set_printoptions(suppress=True)\n",
    "print ('##估计初始概率：', model.startprob_)\n",
    "print('********************************************************************************************')\n",
    "print ('##估计转移概率：\\n', model.transmat_)\n",
    "print('********************************************************************************************')\n",
    "print ('##估计均值：\\n', model.means_)\n",
    "print('********************************************************************************************')\n",
    "print ('##估计方差：\\n', model.covars_)"
   ]
  },
  {
   "cell_type": "code",
   "execution_count": 36,
   "metadata": {},
   "outputs": [
    {
     "name": "stdout",
     "output_type": "stream",
     "text": [
      "[4 0 2 3 1]\n",
      "估计初始概率： [0. 0. 1. 0. 0.]\n",
      "********************************************************************************************\n",
      "估计转移概率：\n",
      " [[0.24444444 0.         0.43333333 0.32222222 0.        ]\n",
      " [0.         0.36082474 0.         0.60824742 0.03092784]\n",
      " [0.03406326 0.         0.47688564 0.         0.48905109]\n",
      " [0.43902439 0.27642276 0.         0.28455285 0.        ]\n",
      " [0.         0.10071942 0.6294964  0.         0.26978417]]\n",
      "********************************************************************************************\n",
      "估计均值：\n",
      " [[ 30.03516561  30.12248569]\n",
      " [ -0.33151185  49.98276566]\n",
      " [-25.01752737  30.05832919]\n",
      " [-14.91004345   0.02788946]\n",
      " [ 14.96925071  -0.06175244]]\n",
      "********************************************************************************************\n",
      "估计方差：\n",
      " [[[ 0.80166474  0.14272046]\n",
      "  [ 0.14272046  2.56229425]]\n",
      "\n",
      " [[ 1.23494334  0.01148405]\n",
      "  [ 0.01148405  1.35077513]]\n",
      "\n",
      " [[ 0.0615622   0.00820638]\n",
      "  [ 0.00820638  1.6420642 ]]\n",
      "\n",
      " [[ 1.88313434 -0.14924005]\n",
      "  [-0.14924005  1.87280138]]\n",
      "\n",
      " [[ 2.36531773 -0.05062351]\n",
      "  [-0.05062351  1.90165272]]]\n",
      "********************************************************************************************\n",
      "[2 4 2 4 1 3 0 3 0 2 4 2 4 2 2 2 4 2 2 2 4 1 1 3 1 1 1 3 1 4 2 4 2 2 4 2 2\n",
      " 2 4 2 4 2 2 4 2 4 2 4 2 4 2 4 2 4 2 4 1 3 3 0 2 4 2 2 4 2 4 2 4 2 4 1 4 2\n",
      " 2 2 2 4 2 4 4 2 2 2 2 2 4 2 2 4 2 4 2 2 4 2 4 2 2 4 4 2 4 2 4 2 4 4 2 2 0\n",
      " 2 2 2 0 0 0 3 1 1 1 3 1 3 3 3 3 0 2 4 2 2 4 4 1 3 1 3 1 3 0 3 3 0 3 0 2 4\n",
      " 1 1 3 3 3 0 2 2 4 2 4 2 2 2 0 3 0 3 1 3 1 1 3 3 1 3 0 2 4 2 4 2 4 2 2 2 4\n",
      " 2 4 2 2 4 4 2 2 4 1 1 1 3 0 2 4 4 2 2 2 2 4 2 2 0 3 0 0 2 2 4 2 2 4 2 0 2\n",
      " 4 4 2 2 2 2 4 2 2 4 2 4 2 2 4 2 2 2 4 4 4 4 2 2 2 2 2 2 4 4 4 1 3 0 0 2 4\n",
      " 4 2 4 2 2 2 2 4 2 4 2 4 4 4 4 2 4 2 2 0 0 0 3 1 1 1 3 1 3 0 0 2 4 1 1 1 1\n",
      " 1 3 0 3 0 3 0 2 2 2 2 2 4 4 2 2 2 4 2 4 2 4 2 2 2 2 2 4 4 4 2 4 2 2 2 2 2\n",
      " 2 2 4 2 2 0 2 4 2 4 2 4 4 2 4 4 1 3 0 2 4 1 3 0 0 2 4 4 1 3 3 0 3 3 1 1 3\n",
      " 1 3 0 3 0 3 0 3 1 3 3 1 1 3 3 3 0 2 2 2 2 2 2 4 2 2 2 2 2 4 4 2 4 4 2 4 2\n",
      " 2 2 4 2 4 4 4 4 2 0 2 4 4 2 4 2 4 4 2 2 4 4 4 4 2 4 2 4 2 4 4 2 4 2 4 2 2\n",
      " 4 2 4 2 4 4 1 1 1 3 0 2 4 2 2 2 2 4 1 3 0 2 2 4 4 2 2 2 2 4 4 2 2 0 2 2 2\n",
      " 4 2 2 4 4 1 3 1 1 1 3 0 0 0 3 3 0 2 4 2 4 2 4 2 2 4 2 4 2 2 2 4 2 2 4 2 2\n",
      " 4 1 3 3 3 3 1 3 0 2 4 2 2 4 1 3 0 0 0 0 3 1 1 3 3 0 0 3 3 3 0 3 0 3 1 3 1\n",
      " 1 3 0 2 4 2 4 4 2 2 4 4 1 3 0 3 0 2 2 4 2 4 2 2 2 2 2 4 4 1 1 3 0 0 2 2 4\n",
      " 4 2 0 2 4 4 1 1 1 3 1 3 0 2 4 2 4 4 2 4 2 4 4 1 1 3 3 0 2 2 4 1 3 1 1 3 3\n",
      " 3 0 2 2 4 4 2 2 0 2 2 4 2 4 2 4 2 4 2 4 2 4 2 2 4 2 2 4 2 2 4 2 4 4 4 2 2\n",
      " 2 4 2 2 4 4 2 4 2 2 2 4 2 4 2 4 2 2 4 2 2 4 1 3 3 1 3 1 3 3 1 3 0 0 3 0 3\n",
      " 3 1 1 3 0 0 2 4 2 4 4 4 1 1 1 1 4 2 4 2 2 2 4 2 4 4 2 2 4 4 2 0 3 1 1 3 0\n",
      " 3 0 3 0 3 1 3 0 2 4 4 2 2 4 4 2 0 2 4 2 4 4 2 2 4 2 2 2 4 2 2 4 4 4 2 2 2\n",
      " 2 2 2 2 2 2 2 2 2 4 2 2 4 2 2 4 2 4 2 2 2 4 4 2 4 2 4 2 4 4 4 2 2 4 2 2 2\n",
      " 4 2 2 2 2 2 2 4 4 4 4 2 4 2 4 2 2 2 2 2 2 0 0 0 0 3 1 3 3 0 0 2 2 2 4 4 1\n",
      " 3 1 1 3 1 3 3 0 2 4 2 2 2 2 2 2 2 4 2 2 4 2 2 2 2 4 4 2 2 4 4 4 2 4 2 2 4\n",
      " 2 2 4 2 4 2 2 2 4 2 4 4 2 2 2 2 2 4 4 2 4 2 4 2 4 2 4 2 2 4 4 1 3 3 3 3 0\n",
      " 3 1 3 3 0 0 2 2 2 2 2 2 4 1 1 3 3 3 3 1 3 1 3 0 2 2 4 2 2 2 2 4 4 2 4 2 2\n",
      " 4 2 2 4 2 2 4 2 2 4 2 2 4 1 3 0 3 0 2 4 4 4 4 2 2 4 2 4 2 2 4 4 2 2 2 4 2\n",
      " 4]\n",
      "********************************************************************************************\n",
      "[2 4 2 4 1 3 0 3 0 2 4 2 4 2 2 2 4 2 2 2 4 1 1 3 1 1 1 3 1 4 2 4 2 2 4 2 2\n",
      " 2 4 2 4 2 2 4 2 4 2 4 2 4 2 4 2 4 2 4 1 3 3 0 2 4 2 2 4 2 4 2 4 2 4 1 4 2\n",
      " 2 2 2 4 2 4 4 2 2 2 2 2 4 2 2 4 2 4 2 2 4 2 4 2 2 4 4 2 4 2 4 2 4 4 2 2 0\n",
      " 2 2 2 0 0 0 3 1 1 1 3 1 3 3 3 3 0 2 4 2 2 4 4 1 3 1 3 1 3 0 3 3 0 3 0 2 4\n",
      " 1 1 3 3 3 0 2 2 4 2 4 2 2 2 0 3 0 3 1 3 1 1 3 3 1 3 0 2 4 2 4 2 4 2 2 2 4\n",
      " 2 4 2 2 4 4 2 2 4 1 1 1 3 0 2 4 4 2 2 2 2 4 2 2 0 3 0 0 2 2 4 2 2 4 2 0 2\n",
      " 4 4 2 2 2 2 4 2 2 4 2 4 2 2 4 2 2 2 4 4 4 4 2 2 2 2 2 2 4 4 4 1 3 0 0 2 4\n",
      " 4 2 4 2 2 2 2 4 2 4 2 4 4 4 4 2 4 2 2 0 0 0 3 1 1 1 3 1 3 0 0 2 4 1 1 1 1\n",
      " 1 3 0 3 0 3 0 2 2 2 2 2 4 4 2 2 2 4 2 4 2 4 2 2 2 2 2 4 4 4 2 4 2 2 2 2 2\n",
      " 2 2 4 2 2 0 2 4 2 4 2 4 4 2 4 4 1 3 0 2 4 1 3 0 0 2 4 4 1 3 3 0 3 3 1 1 3\n",
      " 1 3 0 3 0 3 0 3 1 3 3 1 1 3 3 3 0 2 2 2 2 2 2 4 2 2 2 2 2 4 4 2 4 4 2 4 2\n",
      " 2 2 4 2 4 4 4 4 2 0 2 4 4 2 4 2 4 4 2 2 4 4 4 4 2 4 2 4 2 4 4 2 4 2 4 2 2\n",
      " 4 2 4 2 4 4 1 1 1 3 0 2 4 2 2 2 2 4 1 3 0 2 2 4 4 2 2 2 2 4 4 2 2 0 2 2 2\n",
      " 4 2 2 4 4 1 3 1 1 1 3 0 0 0 3 3 0 2 4 2 4 2 4 2 2 4 2 4 2 2 2 4 2 2 4 2 2\n",
      " 4 1 3 3 3 3 1 3 0 2 4 2 2 4 1 3 0 0 0 0 3 1 1 3 3 0 0 3 3 3 0 3 0 3 1 3 1\n",
      " 1 3 0 2 4 2 4 4 2 2 4 4 1 3 0 3 0 2 2 4 2 4 2 2 2 2 2 4 4 1 1 3 0 0 2 2 4\n",
      " 4 2 0 2 4 4 1 1 1 3 1 3 0 2 4 2 4 4 2 4 2 4 4 1 1 3 3 0 2 2 4 1 3 1 1 3 3\n",
      " 3 0 2 2 4 4 2 2 0 2 2 4 2 4 2 4 2 4 2 4 2 4 2 2 4 2 2 4 2 2 4 2 4 4 4 2 2\n",
      " 2 4 2 2 4 4 2 4 2 2 2 4 2 4 2 4 2 2 4 2 2 4 1 3 3 1 3 1 3 3 1 3 0 0 3 0 3\n",
      " 3 1 1 3 0 0 2 4 2 4 4 4 1 1 1 1 4 2 4 2 2 2 4 2 4 4 2 2 4 4 2 0 3 1 1 3 0\n",
      " 3 0 3 0 3 1 3 0 2 4 4 2 2 4 4 2 0 2 4 2 4 4 2 2 4 2 2 2 4 2 2 4 4 4 2 2 2\n",
      " 2 2 2 2 2 2 2 2 2 4 2 2 4 2 2 4 2 4 2 2 2 4 4 2 4 2 4 2 4 4 4 2 2 4 2 2 2\n",
      " 4 2 2 2 2 2 2 4 4 4 4 2 4 2 4 2 2 2 2 2 2 0 0 0 0 3 1 3 3 0 0 2 2 2 4 4 1\n",
      " 3 1 1 3 1 3 3 0 2 4 2 2 2 2 2 2 2 4 2 2 4 2 2 2 2 4 4 2 2 4 4 4 2 4 2 2 4\n",
      " 2 2 4 2 4 2 2 2 4 2 4 4 2 2 2 2 2 4 4 2 4 2 4 2 4 2 4 2 2 4 4 1 3 3 3 3 0\n",
      " 3 1 3 3 0 0 2 2 2 2 2 2 4 1 1 3 3 3 3 1 3 1 3 0 2 2 4 2 2 2 2 4 4 2 4 2 2\n",
      " 4 2 2 4 2 2 4 2 2 4 2 2 4 1 3 0 3 0 2 4 4 4 4 2 2 4 2 4 2 2 4 4 2 2 2 4 2\n",
      " 4]\n"
     ]
    }
   ],
   "source": [
    "# 类别\n",
    "order = pairwise_distances_argmin(means, model.means_, metric='euclidean')\n",
    "print (order)\n",
    "pi_hat = model.startprob_[order]\n",
    "A_hat = model.transmat_[order]\n",
    "A_hat = A_hat[:, order]\n",
    "means_hat = model.means_[order]\n",
    "covars_hat = model.covars_[order]\n",
    "change = np.empty((n, n_samples), dtype=np.bool)\n",
    "for i in range(n):\n",
    "    change[i] = y == order[i]\n",
    "for i in range(n):\n",
    "    y[change[i]] = i\n",
    "print ('估计初始概率：', pi_hat)\n",
    "print('********************************************************************************************')\n",
    "print ('估计转移概率：\\n', A_hat)\n",
    "print('********************************************************************************************')\n",
    "print ('估计均值：\\n', means_hat)\n",
    "print('********************************************************************************************')\n",
    "print ('估计方差：\\n', covars_hat)\n",
    "print('********************************************************************************************')\n",
    "print (labels)\n",
    "print('********************************************************************************************')\n",
    "print (y)"
   ]
  },
  {
   "cell_type": "markdown",
   "metadata": {},
   "source": [
    "预测准确率"
   ]
  },
  {
   "cell_type": "code",
   "execution_count": 37,
   "metadata": {},
   "outputs": [
    {
     "name": "stdout",
     "output_type": "stream",
     "text": [
      "准确率：100.00%\n"
     ]
    }
   ],
   "source": [
    "acc = np.mean(labels == y) * 100\n",
    "print ('准确率：%.2f%%' % acc)"
   ]
  },
  {
   "cell_type": "markdown",
   "metadata": {},
   "source": [
    "## 4.画图"
   ]
  },
  {
   "cell_type": "code",
   "execution_count": 38,
   "metadata": {},
   "outputs": [
    {
     "data": {
      "image/png": "[encoded data removed]",
      "text/plain": [
       "<Figure size 432x288 with 1 Axes>"
      ]
     },
     "metadata": {
      "needs_background": "light"
     },
     "output_type": "display_data"
    }
   ],
   "source": [
    "mpl.rcParams['font.sans-serif'] = [u'SimHei']\n",
    "mpl.rcParams['axes.unicode_minus'] = False\n",
    "plt.scatter(sample[:, 0], sample[:, 1], s=50, c=labels, cmap=plt.cm.Spectral, marker='o',\n",
    "            label=u'观测值', linewidths=0.5, zorder=20)\n",
    "plt.plot(sample[:, 0], sample[:, 1], 'r-', zorder=10)\n",
    "plt.scatter(means[:, 0], means[:, 1], s=100, c=np.random.rand(n), marker='D', label=u'中心', alpha=0.8, zorder=30)\n",
    "x1_min, x1_max = sample[:, 0].min(), sample[:, 0].max()\n",
    "x2_min, x2_max = sample[:, 1].min(), sample[:, 1].max()\n",
    "x1_min, x1_max = expand(x1_min, x1_max)\n",
    "x2_min, x2_max = expand(x2_min, x2_max)\n",
    "plt.xlim((x1_min, x1_max))\n",
    "plt.ylim((x2_min, x2_max))\n",
    "plt.legend(loc='upper left')\n",
    "plt.grid(True)\n",
    "plt.show()"
   ]
  }
 ],
 "metadata": {
  "kernelspec": {
   "display_name": "Python 3",
   "language": "python",
   "name": "python3"
  },
  "language_info": {
   "codemirror_mode": {
    "name": "ipython",
    "version": 3
   },
   "file_extension": ".py",
   "mimetype": "text/x-python",
   "name": "python",
   "nbconvert_exporter": "python",
   "pygments_lexer": "ipython3",
   "version": "3.7.6"
  }
 },
 "nbformat": 4,
 "nbformat_minor": 4
}
