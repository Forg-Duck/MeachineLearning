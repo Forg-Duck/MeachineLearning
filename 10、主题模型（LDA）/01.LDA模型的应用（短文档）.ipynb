{
 "cells": [
  {
   "cell_type": "markdown",
   "metadata": {},
   "source": [
    "题目：\n",
    "\n",
    "为22.LDA_test.txt这篇文档中的9篇文章确定主题，使用不同的主题模型方法"
   ]
  },
  {
   "cell_type": "markdown",
   "metadata": {},
   "source": [
    "## 1.导入数据库"
   ]
  },
  {
   "cell_type": "markdown",
   "metadata": {},
   "source": [
    "导入库"
   ]
  },
  {
   "cell_type": "code",
   "execution_count": 1,
   "metadata": {},
   "outputs": [],
   "source": [
    "import numpy as np\n",
    "from gensim import corpora, models, similarities  # 导入gensim库中的 文本预处理包、模型包、相似度包\n",
    "from pprint import pprint                         # pprint 其实和print差不多，文本处理常用\n",
    "import matplotlib.pyplot as plt\n",
    "import matplotlib as mpl\n",
    "import sys"
   ]
  },
  {
   "cell_type": "markdown",
   "metadata": {},
   "source": [
    "## 2.对文本数据预处理"
   ]
  },
  {
   "cell_type": "markdown",
   "metadata": {},
   "source": [
    "去除停止词"
   ]
  },
  {
   "cell_type": "code",
   "execution_count": 2,
   "metadata": {},
   "outputs": [
    {
     "name": "stdout",
     "output_type": "stream",
     "text": [
      "Text = \n",
      "[['human', 'machine', 'interface', 'lab', 'abc', 'computer', 'applications'],\n",
      " ['survey', 'user', 'opinion', 'computer', 'system', 'response', 'time'],\n",
      " ['eps', 'user', 'interface', 'management', 'system'],\n",
      " ['system', 'human', 'system', 'engineering', 'testing', 'eps'],\n",
      " ['relation', 'user', 'perceived', 'response', 'time', 'error', 'measurement'],\n",
      " ['generation', 'random', 'binary', 'unordered', 'trees'],\n",
      " ['intersection', 'graph', 'paths', 'trees'],\n",
      " ['graph', 'minors', 'iv', 'widths', 'trees', 'well', 'quasi', 'ordering'],\n",
      " ['graph', 'minors', 'survey']]\n"
     ]
    }
   ],
   "source": [
    "f = open('22.LDA_test.txt')\n",
    "\n",
    "# 去除停止词\n",
    "stop_list = set('for a of the and to in'.split())  # 得到一个停止词列表\n",
    "# texts = [line.strip().split() for line in f]\n",
    "# print(texts)\n",
    "texts = [[word for word in line.strip().lower().split() if word not in stop_list] for line in f] # 遍历文本，去除停止词\n",
    "print('Text = ')\n",
    "pprint(texts)"
   ]
  },
  {
   "cell_type": "markdown",
   "metadata": {},
   "source": [
    "将去除过停止词的文本向量化 TF-IDF"
   ]
  },
  {
   "cell_type": "code",
   "execution_count": 3,
   "metadata": {},
   "outputs": [],
   "source": [
    "dictionary = corpora.Dictionary(texts)  # 将texts中的词写成字典的形式\n",
    "V = len(dictionary)\n",
    "corpus = [dictionary.doc2bow(text) for text in texts]  # 遍历texts中的词，化为向量形式\n",
    "\n",
    "# 使用gensim库中的文本预处理包corpora进行TF-IDF\n",
    "corpus_tfidf = models.TfidfModel(corpus)[corpus]"
   ]
  },
  {
   "cell_type": "code",
   "execution_count": 4,
   "metadata": {},
   "outputs": [
    {
     "name": "stdout",
     "output_type": "stream",
     "text": [
      "TF-IDF:\n",
      "[(0, 0.4301019571350565), (1, 0.4301019571350565), (2, 0.2944198962221451), (3, 0.2944198962221451), (4, 0.2944198962221451), (5, 0.4301019571350565), (6, 0.4301019571350565)]\n",
      "[(2, 0.3726494271826947), (7, 0.5443832091958983), (8, 0.3726494271826947), (9, 0.3726494271826947), (10, 0.27219160459794917), (11, 0.3726494271826947), (12, 0.27219160459794917)]\n",
      "[(4, 0.438482464916089), (10, 0.32027755044706185), (12, 0.32027755044706185), (13, 0.438482464916089), (14, 0.6405551008941237)]\n",
      "[(3, 0.3449874408519962), (10, 0.5039733231394895), (13, 0.3449874408519962), (15, 0.5039733231394895), (16, 0.5039733231394895)]\n",
      "[(8, 0.30055933182961736), (11, 0.30055933182961736), (12, 0.21953536176370683), (17, 0.43907072352741366), (18, 0.43907072352741366), (19, 0.43907072352741366), (20, 0.43907072352741366)]\n",
      "[(21, 0.48507125007266594), (22, 0.48507125007266594), (23, 0.48507125007266594), (24, 0.24253562503633297), (25, 0.48507125007266594)]\n",
      "[(24, 0.31622776601683794), (26, 0.31622776601683794), (27, 0.6324555320336759), (28, 0.6324555320336759)]\n",
      "[(24, 0.20466057569885868), (26, 0.20466057569885868), (29, 0.40932115139771735), (30, 0.2801947048062438), (31, 0.40932115139771735), (32, 0.40932115139771735), (33, 0.40932115139771735), (34, 0.40932115139771735)]\n",
      "[(9, 0.6282580468670046), (26, 0.45889394536615247), (30, 0.6282580468670046)]\n"
     ]
    }
   ],
   "source": [
    "# 打印出结果（每个文档每个词出现的频率）\n",
    "print('TF-IDF:')\n",
    "for c in corpus_tfidf:\n",
    "    print(c)"
   ]
  },
  {
   "cell_type": "markdown",
   "metadata": {},
   "source": [
    "## 3.应用模型"
   ]
  },
  {
   "cell_type": "markdown",
   "metadata": {},
   "source": [
    "应用LSI模型"
   ]
  },
  {
   "cell_type": "code",
   "execution_count": 5,
   "metadata": {},
   "outputs": [
    {
     "name": "stdout",
     "output_type": "stream",
     "text": [
      "\n",
      "LSI Model:\n",
      "[[(0, 0.34057117986841856),\n",
      "  (1, -0.20602251622679665),\n",
      "  (2, 0.2516322932612179),\n",
      "  (3, -0.06646636031660592),\n",
      "  (4, 0.8634175502633786)],\n",
      " [(0, 0.6933040002171567),\n",
      "  (1, 0.0072327583903888555),\n",
      "  (2, -0.42828031011610473),\n",
      "  (3, 0.009221456247179308),\n",
      "  (4, 0.0724554047622463)],\n",
      " [(0, 0.5902607670389718),\n",
      "  (1, -0.3526046949085578),\n",
      "  (2, 0.3088320925810756),\n",
      "  (3, 0.015857166285258944),\n",
      "  (4, -0.2416566944150778)],\n",
      " [(0, 0.5214901821825126),\n",
      "  (1, -0.3388797615405538),\n",
      "  (2, 0.4328304015902554),\n",
      "  (3, -0.03897722688934212),\n",
      "  (4, -0.33361514099931583)],\n",
      " [(0, 0.3953319317635446),\n",
      "  (1, -0.059192853366599525),\n",
      "  (2, -0.6817088379096495),\n",
      "  (3, 0.2755580402790416),\n",
      "  (4, -0.05393081477954104)],\n",
      " [(0, 0.03635317352849357),\n",
      "  (1, 0.18146550208818857),\n",
      "  (2, 0.2040948457195011),\n",
      "  (3, 0.8684447611727187),\n",
      "  (4, 0.08100886500516388)],\n",
      " [(0, 0.14709012328778923),\n",
      "  (1, 0.4943294812782235),\n",
      "  (2, 0.2520741552399362),\n",
      "  (3, 0.2575886501115436),\n",
      "  (4, -0.04099410336036606)],\n",
      " [(0, 0.2140711731756535),\n",
      "  (1, 0.6406456664453947),\n",
      "  (2, 0.21254395627262582),\n",
      "  (3, -0.16107830262205888),\n",
      "  (4, -0.04465113586188532)],\n",
      " [(0, 0.4006656831817079),\n",
      "  (1, 0.6413108299094008),\n",
      "  (2, -0.04311301052997009),\n",
      "  (3, -0.29127652603555104),\n",
      "  (4, 0.01570567077085938)]]\n",
      "=====================================================================================================================\n",
      "LSI Topics:\n",
      "[(0,\n",
      "  '0.400*\"system\" + 0.318*\"survey\" + 0.290*\"user\" + 0.274*\"eps\" + '\n",
      "  '0.236*\"management\"'),\n",
      " (1,\n",
      "  '0.421*\"minors\" + 0.420*\"graph\" + 0.293*\"survey\" + 0.239*\"trees\" + '\n",
      "  '0.226*\"paths\"')]\n",
      "=====================================================================================================================\n",
      "Similarity:\n",
      "[array([ 1.        ,  0.23409393,  0.18154839,  0.08675299, -0.10836682,\n",
      "        0.04278187, -0.06569936, -0.04663225,  0.03300104], dtype=float32),\n",
      " array([ 0.23409393,  1.        ,  0.39682233,  0.22000073,  0.8222731 ,\n",
      "       -0.06281993, -0.00581449,  0.09625299,  0.45074287], dtype=float32),\n",
      " array([ 0.18154839,  0.39682233,  1.        ,  0.9768527 ,  0.09200786,\n",
      "        0.02029699,  0.00873097, -0.04454852, -0.01768056], dtype=float32),\n",
      " array([ 0.08675299,  0.22000073,  0.9768527 ,  1.        , -0.08860746,\n",
      "       -0.01988345,  0.04196183,  0.0127759 , -0.03111481], dtype=float32),\n",
      " array([-0.10836682,  0.8222731 ,  0.09200786, -0.08860746,  1.        ,\n",
      "        0.12962082, -0.13192199, -0.22970414,  0.10094815], dtype=float32),\n",
      " array([ 0.04278187, -0.06281993,  0.02029699, -0.01988345,  0.12962082,\n",
      "        0.99999994,  0.63612044,  0.03592979, -0.17449184], dtype=float32),\n",
      " array([-0.06569936, -0.00581449,  0.00873097,  0.04196183, -0.13192199,\n",
      "        0.63612044,  1.        ,  0.78928524,  0.5655165 ], dtype=float32),\n",
      " array([-0.04663225,  0.09625299, -0.04454852,  0.0127759 , -0.22970414,\n",
      "        0.03592979,  0.78928524,  0.99999994,  0.90372527], dtype=float32),\n",
      " array([ 0.03300104,  0.45074287, -0.01768056, -0.03111481,  0.10094815,\n",
      "       -0.17449184,  0.5655165 ,  0.90372527,  1.0000001 ], dtype=float32)]\n"
     ]
    }
   ],
   "source": [
    "print('\\nLSI Model:')\n",
    "\n",
    "# 将预处理好的文本 corpus_tfidf 喂给模型 ；主题数设置为2\n",
    "lsi = models.LsiModel(corpus_tfidf, num_topics=5, id2word=dictionary)\n",
    "topic_result = [a for a in lsi[corpus_tfidf]]\n",
    "pprint(topic_result)\n",
    "print('=====================================================================================================================')\n",
    "print('LSI Topics:')\n",
    "pprint(lsi.print_topics(num_topics=2, num_words=5))\n",
    "\n",
    "# 相似度计算\n",
    "similarity = similarities.MatrixSimilarity(lsi[corpus_tfidf])   # 用的是 similarities.Similarity()\n",
    "print('=====================================================================================================================')\n",
    "print('Similarity:')\n",
    "pprint(list(similarity))"
   ]
  },
  {
   "cell_type": "markdown",
   "metadata": {},
   "source": [
    "LSI Model的主题概率出现了负数，是因为计算的方法所致"
   ]
  },
  {
   "cell_type": "markdown",
   "metadata": {},
   "source": [
    "应用LDA模型"
   ]
  },
  {
   "cell_type": "code",
   "execution_count": 6,
   "metadata": {},
   "outputs": [
    {
     "name": "stdout",
     "output_type": "stream",
     "text": [
      "LDA Model:\n",
      "Document-Topic:\n",
      "[[(0, 0.03991476),\n",
      "  (1, 0.7977135),\n",
      "  (2, 0.06086463),\n",
      "  (3, 0.039947882),\n",
      "  (4, 0.06155916)],\n",
      " [(0, 0.04019181),\n",
      "  (1, 0.061950173),\n",
      "  (2, 0.7945601),\n",
      "  (3, 0.04022522),\n",
      "  (4, 0.06307277)],\n",
      " [(0, 0.045684014),\n",
      "  (1, 0.071155824),\n",
      "  (2, 0.069710456),\n",
      "  (3, 0.045721956),\n",
      "  (4, 0.7677278)],\n",
      " [(0, 0.045042574),\n",
      "  (1, 0.77153283),\n",
      "  (2, 0.06849663),\n",
      "  (3, 0.04507998),\n",
      "  (4, 0.069847964)],\n",
      " [(0, 0.04022006),\n",
      "  (1, 0.061154842),\n",
      "  (2, 0.061865725),\n",
      "  (3, 0.040253453),\n",
      "  (4, 0.7965059)],\n",
      " [(0, 0.045320433),\n",
      "  (1, 0.0693284),\n",
      "  (2, 0.7704171),\n",
      "  (3, 0.045358133),\n",
      "  (4, 0.069575906)],\n",
      " [(0, 0.04990512),\n",
      "  (1, 0.74641037),\n",
      "  (2, 0.0768665),\n",
      "  (3, 0.049946576),\n",
      "  (4, 0.07687144)],\n",
      " [(0, 0.038473662),\n",
      "  (1, 0.0591654),\n",
      "  (2, 0.060071163),\n",
      "  (3, 0.03850564),\n",
      "  (4, 0.8037842)],\n",
      " [(0, 0.053341523),\n",
      "  (1, 0.08157264),\n",
      "  (2, 0.72944605),\n",
      "  (3, 0.053385716),\n",
      "  (4, 0.08225401)]]\n",
      "[(0, 0.039914764), (1, 0.79771465), (2, 0.060865086), (3, 0.039947882), (4, 0.06155758)]\n",
      "[(0, 0.040191814), (1, 0.061950084), (2, 0.7945332), (3, 0.040225223), (4, 0.06309974)]\n",
      "[(0, 0.045684014), (1, 0.071149155), (2, 0.0697104), (3, 0.045721956), (4, 0.76773447)]\n",
      "[(0, 0.045042574), (1, 0.7715388), (2, 0.068496585), (3, 0.04507998), (4, 0.0698421)]\n",
      "[(0, 0.040220063), (1, 0.061154854), (2, 0.061871644), (3, 0.040253457), (4, 0.7965)]\n",
      "[(0, 0.045320436), (1, 0.06933065), (2, 0.770415), (3, 0.045358136), (4, 0.06957581)]\n",
      "[(0, 0.049905118), (1, 0.7464142), (2, 0.07686282), (3, 0.049946573), (4, 0.07687128)]\n",
      "[(0, 0.03847366), (1, 0.059165422), (2, 0.060087718), (3, 0.038505636), (4, 0.80376756)]\n",
      "[(0, 0.053341527), (1, 0.08157236), (2, 0.72944635), (3, 0.05338572), (4, 0.08225407)]\n",
      "=====================================================================================================================\n",
      "Topic 0\n",
      "[('graph', 0.028958704),\n",
      " ('survey', 0.028873637),\n",
      " ('minors', 0.028805837),\n",
      " ('system', 0.028715054),\n",
      " ('trees', 0.028687706),\n",
      " ('eps', 0.028665874),\n",
      " ('intersection', 0.028657217),\n",
      " ('user', 0.028643912),\n",
      " ('interface', 0.028642971),\n",
      " ('response', 0.028609028)]\n",
      "Topic 1\n",
      "[('human', 0.060840975),\n",
      " ('paths', 0.060338292),\n",
      " ('intersection', 0.060241565),\n",
      " ('system', 0.051175687),\n",
      " ('engineering', 0.05115542),\n",
      " ('testing', 0.051087126),\n",
      " ('abc', 0.04587295),\n",
      " ('applications', 0.045801986),\n",
      " ('lab', 0.045754306),\n",
      " ('machine', 0.045712505)]\n",
      "Topic 2\n",
      "[('survey', 0.08841645),\n",
      " ('minors', 0.06087125),\n",
      " ('opinion', 0.055112153),\n",
      " ('random', 0.050629575),\n",
      " ('generation', 0.050549187),\n",
      " ('binary', 0.050525825),\n",
      " ('unordered', 0.050520208),\n",
      " ('graph', 0.048527304),\n",
      " ('response', 0.04243485),\n",
      " ('computer', 0.042362157)]\n",
      "Topic 3\n",
      "[('system', 0.0289043),\n",
      " ('graph', 0.028874671),\n",
      " ('minors', 0.028841542),\n",
      " ('trees', 0.028824516),\n",
      " ('survey', 0.028732643),\n",
      " ('paths', 0.028651858),\n",
      " ('user', 0.028646557),\n",
      " ('human', 0.028614433),\n",
      " ('time', 0.02860826),\n",
      " ('intersection', 0.028602771)]\n",
      "Topic 4\n",
      "[('management', 0.057762716),\n",
      " ('user', 0.0509402),\n",
      " ('error', 0.044021133),\n",
      " ('relation', 0.043972075),\n",
      " ('measurement', 0.04394645),\n",
      " ('eps', 0.04392804),\n",
      " ('perceived', 0.04390448),\n",
      " ('interface', 0.043886907),\n",
      " ('widths', 0.042018),\n",
      " ('iv', 0.041978844)]\n",
      "=====================================================================================================================\n",
      "Similarity:\n",
      "[array([1.        , 0.1626563 , 0.17917943, 0.99977213, 0.1621804 ,\n",
      "       0.1756363 , 0.9990705 , 0.15869719, 0.19890912], dtype=float32),\n",
      " array([0.1626563 , 0.99999994, 0.17967944, 0.17627591, 0.16524929,\n",
      "       0.99980724, 0.1913361 , 0.1619818 , 0.9984427 ], dtype=float32),\n",
      " array([0.17917943, 0.17967944, 0.99999994, 0.19378853, 0.999716  ,\n",
      "       0.19195288, 0.20747197, 0.9995685 , 0.21617445], dtype=float32),\n",
      " array([0.99977213, 0.17627591, 0.19378853, 1.        , 0.17658328,\n",
      "       0.18945588, 0.9997623 , 0.1730421 , 0.21309406], dtype=float32),\n",
      " array([0.1621804 , 0.16524929, 0.999716  , 0.17658328, 1.        ,\n",
      "       0.17727174, 0.1900443 , 0.99998426, 0.20107831], dtype=float32),\n",
      " array([0.1756363 , 0.99980724, 0.19195288, 0.18945588, 0.17727174,\n",
      "       1.        , 0.20469537, 0.17394224, 0.99934435], dtype=float32),\n",
      " array([0.9990705 , 0.1913361 , 0.20747197, 0.9997623 , 0.1900443 ,\n",
      "       0.20469537, 1.        , 0.18644132, 0.22865744], dtype=float32),\n",
      " array([0.15869719, 0.1619818 , 0.9995685 , 0.1730421 , 0.99998426,\n",
      "       0.17394224, 0.18644132, 0.99999994, 0.19764616], dtype=float32),\n",
      " array([0.19890912, 0.9984427 , 0.21617445, 0.21309406, 0.20107831,\n",
      "       0.99934435, 0.22865744, 0.19764616, 0.99999994], dtype=float32)]\n"
     ]
    }
   ],
   "source": [
    "print('LDA Model:')\n",
    "num_topics = 5\n",
    "topic_list = []\n",
    "word_list = []\n",
    "\n",
    "# 将预处理好的文本 corpus_tfidf 喂给模型 ；主题数设置为2 ；超参数‘alpha’，‘eta’设置为自动选择\n",
    "lda = models.LdaModel(corpus_tfidf, num_topics=num_topics, id2word=dictionary,\n",
    "                        alpha='auto', eta='auto', minimum_probability=0.001)\n",
    "doc_topic = [doc_t for doc_t in lda[corpus_tfidf]]\n",
    "print('Document-Topic:')\n",
    "pprint(doc_topic)\n",
    "for doc_topic in lda.get_document_topics(corpus_tfidf): # 打印出各个主题的概率\n",
    "    topic_list.append(doc_topic)\n",
    "    print(doc_topic)\n",
    "\n",
    "# 打印出各个主题的代表词\n",
    "print('=====================================================================================================================')\n",
    "for topic_id in range(num_topics):\n",
    "    print('Topic', topic_id)\n",
    "    # pprint(lda.get_topic_terms(topicid=topic_id))\n",
    "    word_list.append(lda.show_topic(topic_id))\n",
    "    pprint(lda.show_topic(topic_id))\n",
    "\n",
    "# 打印出相似度\n",
    "print('=====================================================================================================================')\n",
    "similarity = similarities.MatrixSimilarity(lda[corpus_tfidf])  # 用的是 similarities.Similarity()\n",
    "print('Similarity:')\n",
    "pprint(list(similarity))"
   ]
  },
  {
   "cell_type": "markdown",
   "metadata": {},
   "source": [
    "应用HDA模型"
   ]
  },
  {
   "cell_type": "code",
   "execution_count": 7,
   "metadata": {},
   "outputs": [
    {
     "name": "stdout",
     "output_type": "stream",
     "text": [
      "\n",
      "\n",
      "USE WITH CARE--\n",
      "HDA Model:\n",
      "[[(0, 0.7903639655522441),\n",
      "  (1, 0.054052514151009146),\n",
      "  (2, 0.039170181275297394),\n",
      "  (3, 0.02942217652431822),\n",
      "  (4, 0.022199786864642516),\n",
      "  (5, 0.016646266203619104),\n",
      "  (6, 0.012288201872992014)],\n",
      " [(0, 0.7891051188969954),\n",
      "  (1, 0.054452213296146884),\n",
      "  (2, 0.03926355218903703),\n",
      "  (3, 0.029596386271133802),\n",
      "  (4, 0.022351436108928695),\n",
      "  (5, 0.016759285083583344),\n",
      "  (6, 0.012371637128100457)],\n",
      " [(0, 0.0844916328808466),\n",
      "  (1, 0.7381825464169942),\n",
      "  (2, 0.044521532971464425),\n",
      "  (3, 0.03353863545834879),\n",
      "  (4, 0.02533247609198699),\n",
      "  (5, 0.018994974980894825),\n",
      "  (6, 0.014022020411755732),\n",
      "  (7, 0.010504143551482482)],\n",
      " [(0, 0.08326048688367906),\n",
      "  (1, 0.6019523511289068),\n",
      "  (2, 0.18379491387794336),\n",
      "  (3, 0.03308421893147109),\n",
      "  (4, 0.024986634522262616),\n",
      "  (5, 0.01873505339999531),\n",
      "  (6, 0.013830121256441598),\n",
      "  (7, 0.010360388479732724)],\n",
      " [(0, 0.7888700659907043),\n",
      "  (1, 0.054588201216119465),\n",
      "  (2, 0.03928743392207219),\n",
      "  (3, 0.029612376006594585),\n",
      "  (4, 0.022366373530074382),\n",
      "  (5, 0.0167706494996536),\n",
      "  (6, 0.012380032124393002)],\n",
      " [(0, 0.2772120364988321),\n",
      "  (1, 0.5466776599960377),\n",
      "  (2, 0.044284476026758834),\n",
      "  (3, 0.03333187067916815),\n",
      "  (4, 0.025135578871305707),\n",
      "  (5, 0.018847305049663927),\n",
      "  (6, 0.013913003355162542),\n",
      "  (7, 0.010422476926560167)],\n",
      " [(0, 0.5615180339788111),\n",
      "  (1, 0.24492527495911118),\n",
      "  (2, 0.048744349803177406),\n",
      "  (3, 0.036614196539710014),\n",
      "  (4, 0.027612331552437183),\n",
      "  (5, 0.020704206469163277),\n",
      "  (6, 0.015283738688579506),\n",
      "  (7, 0.011449319038063921)],\n",
      " [(0, 0.5531526911861863),\n",
      "  (1, 0.2966251225366873),\n",
      "  (2, 0.037957727516967),\n",
      "  (3, 0.028356731515952246),\n",
      "  (4, 0.021413357648421234),\n",
      "  (5, 0.016056114896960367),\n",
      "  (6, 0.01185255690722157)],\n",
      " [(0, 0.37887633706149726),\n",
      "  (1, 0.4140899882741898),\n",
      "  (2, 0.05254838599933597),\n",
      "  (3, 0.039034683476079676),\n",
      "  (4, 0.02946483750477863),\n",
      "  (5, 0.02209156217973628),\n",
      "  (6, 0.01630788477714806),\n",
      "  (7, 0.012216524963546875)]]\n",
      "=====================================================================================================================\n",
      "HDA Topics:\n",
      "[(0, '0.153*measurement + 0.090*opinion + 0.083*computer + 0.057*lab + 0.054*machine'), (1, '0.094*ordering + 0.086*minors + 0.069*random + 0.066*testing + 0.062*paths'), (2, '0.083*engineering + 0.078*opinion + 0.069*testing + 0.067*measurement + 0.062*graph'), (3, '0.098*binary + 0.087*intersection + 0.077*measurement + 0.070*abc + 0.061*error'), (4, '0.114*random + 0.068*user + 0.058*perceived + 0.058*minors + 0.057*quasi')]\n"
     ]
    }
   ],
   "source": [
    "# 将预处理好的文本 corpus_tfidf 喂给模型 ；主题数设置为2\n",
    "hda = models.HdpModel(corpus_tfidf, id2word=dictionary)\n",
    "topic_result = [a for a in hda[corpus_tfidf]]\n",
    "print('\\n\\nUSE WITH CARE--\\nHDA Model:')\n",
    "pprint(topic_result)\n",
    "print('=====================================================================================================================')\n",
    "\n",
    "print('HDA Topics:')\n",
    "print(hda.print_topics(num_topics=5, num_words=5))"
   ]
  },
  {
   "cell_type": "markdown",
   "metadata": {},
   "source": [
    "这个模型还不完美，最好还是用LDA，其他作为了解"
   ]
  },
  {
   "cell_type": "markdown",
   "metadata": {},
   "source": [
    "## 4.画出文档的主题分布和主题的词分布"
   ]
  },
  {
   "cell_type": "code",
   "execution_count": 8,
   "metadata": {},
   "outputs": [
    {
     "name": "stderr",
     "output_type": "stream",
     "text": [
      "E:\\Anaconda\\lib\\site-packages\\ipykernel_launcher.py:10: UserWarning: In Matplotlib 3.3 individual lines on a stem plot will be added as a LineCollection instead of individual lines. This significantly improves the performance of a stem plot. To remove this warning and switch to the new behaviour, set the \"use_line_collection\" keyword argument to True.\n",
      "  # Remove the CWD from sys.path while we load stuff.\n",
      "E:\\Anaconda\\lib\\site-packages\\ipykernel_launcher.py:10: UserWarning: In Matplotlib 3.3 individual lines on a stem plot will be added as a LineCollection instead of individual lines. This significantly improves the performance of a stem plot. To remove this warning and switch to the new behaviour, set the \"use_line_collection\" keyword argument to True.\n",
      "  # Remove the CWD from sys.path while we load stuff.\n",
      "E:\\Anaconda\\lib\\site-packages\\ipykernel_launcher.py:10: UserWarning: In Matplotlib 3.3 individual lines on a stem plot will be added as a LineCollection instead of individual lines. This significantly improves the performance of a stem plot. To remove this warning and switch to the new behaviour, set the \"use_line_collection\" keyword argument to True.\n",
      "  # Remove the CWD from sys.path while we load stuff.\n",
      "E:\\Anaconda\\lib\\site-packages\\ipykernel_launcher.py:10: UserWarning: In Matplotlib 3.3 individual lines on a stem plot will be added as a LineCollection instead of individual lines. This significantly improves the performance of a stem plot. To remove this warning and switch to the new behaviour, set the \"use_line_collection\" keyword argument to True.\n",
      "  # Remove the CWD from sys.path while we load stuff.\n",
      "E:\\Anaconda\\lib\\site-packages\\ipykernel_launcher.py:10: UserWarning: In Matplotlib 3.3 individual lines on a stem plot will be added as a LineCollection instead of individual lines. This significantly improves the performance of a stem plot. To remove this warning and switch to the new behaviour, set the \"use_line_collection\" keyword argument to True.\n",
      "  # Remove the CWD from sys.path while we load stuff.\n",
      "E:\\Anaconda\\lib\\site-packages\\ipykernel_launcher.py:10: UserWarning: In Matplotlib 3.3 individual lines on a stem plot will be added as a LineCollection instead of individual lines. This significantly improves the performance of a stem plot. To remove this warning and switch to the new behaviour, set the \"use_line_collection\" keyword argument to True.\n",
      "  # Remove the CWD from sys.path while we load stuff.\n",
      "E:\\Anaconda\\lib\\site-packages\\ipykernel_launcher.py:10: UserWarning: In Matplotlib 3.3 individual lines on a stem plot will be added as a LineCollection instead of individual lines. This significantly improves the performance of a stem plot. To remove this warning and switch to the new behaviour, set the \"use_line_collection\" keyword argument to True.\n",
      "  # Remove the CWD from sys.path while we load stuff.\n",
      "E:\\Anaconda\\lib\\site-packages\\ipykernel_launcher.py:10: UserWarning: In Matplotlib 3.3 individual lines on a stem plot will be added as a LineCollection instead of individual lines. This significantly improves the performance of a stem plot. To remove this warning and switch to the new behaviour, set the \"use_line_collection\" keyword argument to True.\n",
      "  # Remove the CWD from sys.path while we load stuff.\n",
      "E:\\Anaconda\\lib\\site-packages\\ipykernel_launcher.py:10: UserWarning: In Matplotlib 3.3 individual lines on a stem plot will be added as a LineCollection instead of individual lines. This significantly improves the performance of a stem plot. To remove this warning and switch to the new behaviour, set the \"use_line_collection\" keyword argument to True.\n",
      "  # Remove the CWD from sys.path while we load stuff.\n"
     ]
    },
    {
     "data": {
      "image/png": "[encoded data removed]",
      "text/plain": [
       "<Figure size 864x1080 with 9 Axes>"
      ]
     },
     "metadata": {
      "needs_background": "light"
     },
     "output_type": "display_data"
    }
   ],
   "source": [
    "# 文档的主题分布\n",
    "topic_array = np.array(topic_list)\n",
    "topic = topic_array.T[1,:].T      # 这是为了造出单独的每个文档的主题分布来\n",
    "\n",
    "# 画图\n",
    "plt.figure(figsize=(12,15))\n",
    "# f, ax= plt.subplots(5, 1, figsize=(8, 6), sharex=True)\n",
    "for i, k in enumerate([0, 1, 2, 3, 4, 5, 6, 7, 8]):  # 遍历9个文档\n",
    "    ax = plt.subplot(9, 1, i+1)\n",
    "    ax.stem(topic[k, :], linefmt='g-', markerfmt='ro')\n",
    "    ax.set_xlim(-1, num_topics)\n",
    "    ax.set_ylim(0, 1)\n",
    "    ax.set_ylabel('rate')\n",
    "    ax.set_title('doc {}'.format(k))\n",
    "plt.xlabel('topic', fontsize=25)\n",
    "plt.suptitle('doc - topic', fontsize=20)\n",
    "# plt.tight_layout()\n",
    "plt.subplots_adjust(top=0.9)\n",
    "plt.show()"
   ]
  },
  {
   "cell_type": "code",
   "execution_count": 66,
   "metadata": {},
   "outputs": [
    {
     "data": {
      "image/png": "[encoded data removed]",
      "text/plain": [
       "<Figure size 576x648 with 5 Axes>"
      ]
     },
     "metadata": {
      "needs_background": "light"
     },
     "output_type": "display_data"
    }
   ],
   "source": [
    "# 主题的词分布\n",
    "word_array = np.array(word_list)\n",
    "word_str = word_array.T[1,:].T\n",
    "word_num = [[float(i) for i in l] for l in word_str]\n",
    "word = np.array(word_num)                                  # 将主题词分布的概率转换为数组形式\n",
    "\n",
    "# 画图\n",
    "plt.figure(figsize=(8, 9))\n",
    "# f, ax = plt.subplots(5, 1, sharex=True)\n",
    "for i, k in enumerate([0, 1, 2, 3, 4]):\n",
    "    ax = plt.subplot(5, 1, i+1)\n",
    "    ax.plot(word[k, :], 'r-')\n",
    "    ax.set_xlim(-1, 11)   # [0,10]\n",
    "    ax.set_ylim(0, 0.1)\n",
    "    ax.set_ylabel('rate')\n",
    "    ax.set_title('topic {}'.format(k))\n",
    "plt.xlabel('word', fontsize=14)\n",
    "plt.tight_layout()\n",
    "plt.suptitle('topic - word', fontsize=18)\n",
    "plt.subplots_adjust(top=0.9)\n",
    "plt.show()"
   ]
  }
 ],
 "metadata": {
  "kernelspec": {
   "display_name": "Python 3",
   "language": "python",
   "name": "python3"
  },
  "language_info": {
   "codemirror_mode": {
    "name": "ipython",
    "version": 3
   },
   "file_extension": ".py",
   "mimetype": "text/x-python",
   "name": "python",
   "nbconvert_exporter": "python",
   "pygments_lexer": "ipython3",
   "version": "3.7.6"
  }
 },
 "nbformat": 4,
 "nbformat_minor": 4
}
